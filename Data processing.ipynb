{
 "cells": [
  {
   "cell_type": "code",
   "execution_count": 1,
   "metadata": {},
   "outputs": [
    {
     "name": "stdout",
     "output_type": "stream",
     "text": [
      "finish\n"
     ]
    }
   ],
   "source": [
    "#数据 合并\n",
    "\n",
    "# -*- coding:utf-8 -*-\n",
    "\n",
    "import csv as csv\n",
    "\n",
    "import numpy as np\n",
    "\n",
    "import pandas as pd\n",
    "\n",
    "df = pd.read_csv('oasis.csv') # 读取\n",
    "\n",
    "dd = pd.read_csv('patients.csv')\n",
    "\n",
    "\n",
    "data = pd.merge(df, dd, on=['subject_id'], how='left') # pandas csv表左连接\n",
    "\n",
    "data = data[['subject_id', 'age_score', 'preiculos_score', 'gcs_score', 'heart_rate_score', 'mbp_score', 'resp_rate_score', 'temp_score', 'urineoutput_score', 'mechvent_score', 'electivesurgery_score', 'dod','oasis_prob']]\n",
    "\n",
    "\n",
    "data.to_csv('result_oasis.csv', encoding='gbk')\n",
    "\n",
    "print ('finish')"
   ]
  },
  {
   "cell_type": "code",
   "execution_count": 2,
   "metadata": {},
   "outputs": [
    {
     "name": "stdout",
     "output_type": "stream",
     "text": [
      "finish\n"
     ]
    }
   ],
   "source": [
    "#数据 清洗 和 处理\n",
    "\n",
    "# -*- coding:utf-8 -*-\n",
    "\n",
    "import csv as csv\n",
    "\n",
    "import numpy as np\n",
    "\n",
    "import pandas as pd\n",
    "\n",
    "df = pd.read_csv('result_oasis.csv')          # 读取\n",
    "\n",
    "df['dod'] = df['dod'].fillna('0')       #所有空的位置全部填为 0 \n",
    "\n",
    "for i, element in enumerate(df['dod']):     #循环找到非0，再利用枚举和at函数，部改为 1\n",
    "    \n",
    "    if element != '0':\n",
    "        df.at[i,'dod'] = '1'\n",
    "    \n",
    "#     if row.isnull() == False:\n",
    "#         row = '1'\n",
    "#     if pd.isna(row) == False:\n",
    "#         print (df['dod'][row])\n",
    "#         print (row)\n",
    "#     else:\n",
    "#         print('空')    \n",
    "\n",
    "\n",
    "df = df.dropna()     #删除带有空值的数据\n",
    "    \n",
    "\n",
    "df.to_csv('result_c_oasis.csv', encoding='gbk')\n",
    "\n",
    "print ('finish')"
   ]
  },
  {
   "cell_type": "code",
   "execution_count": null,
   "metadata": {},
   "outputs": [],
   "source": []
  }
 ],
 "metadata": {
  "kernelspec": {
   "display_name": "Python 3",
   "language": "python",
   "name": "python3"
  },
  "language_info": {
   "codemirror_mode": {
    "name": "ipython",
    "version": 3
   },
   "file_extension": ".py",
   "mimetype": "text/x-python",
   "name": "python",
   "nbconvert_exporter": "python",
   "pygments_lexer": "ipython3",
   "version": "3.8.3"
  }
 },
 "nbformat": 4,
 "nbformat_minor": 4
}
